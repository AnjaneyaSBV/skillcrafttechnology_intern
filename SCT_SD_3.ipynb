{
  "nbformat": 4,
  "nbformat_minor": 0,
  "metadata": {
    "colab": {
      "provenance": [],
      "authorship_tag": "ABX9TyMzpAoM2ErmpjRAC9LVbb7C",
      "include_colab_link": true
    },
    "kernelspec": {
      "name": "python3",
      "display_name": "Python 3"
    },
    "language_info": {
      "name": "python"
    }
  },
  "cells": [
    {
      "cell_type": "markdown",
      "metadata": {
        "id": "view-in-github",
        "colab_type": "text"
      },
      "source": [
        "<a href=\"https://colab.research.google.com/github/AnjaneyaSBV/skillcrafttechnology_intern/blob/main/SCT_SD_3.ipynb\" target=\"_parent\"><img src=\"https://colab.research.google.com/assets/colab-badge.svg\" alt=\"Open In Colab\"/></a>"
      ]
    },
    {
      "cell_type": "code",
      "source": [
        "# Sudoku Solver using Backtracking Algorithm\n",
        "\n",
        "def print_grid(grid):\n",
        "    \"\"\"Prints the Sudoku grid in a readable format\"\"\"\n",
        "    for row in grid:\n",
        "        print(\" \".join(str(num) if num != 0 else '.' for num in row))\n",
        "\n",
        "\n",
        "def find_empty(grid):\n",
        "    \"\"\"Finds an empty cell (represented by 0), returns (row, col) or None\"\"\"\n",
        "    for i in range(9):\n",
        "        for j in range(9):\n",
        "            if grid[i][j] == 0:\n",
        "                return i, j\n",
        "    return None\n",
        "\n",
        "\n",
        "def is_valid(grid, num, pos):\n",
        "    \"\"\"Checks if placing num at pos is valid\"\"\"\n",
        "    row, col = pos\n",
        "\n",
        "    # Check row\n",
        "    if num in grid[row]:\n",
        "        return False\n",
        "\n",
        "    # Check column\n",
        "    if num in [grid[i][col] for i in range(9)]:\n",
        "        return False\n",
        "\n",
        "    # Check 3x3 box\n",
        "    start_row, start_col = row // 3 * 3, col // 3 * 3\n",
        "    for i in range(start_row, start_row + 3):\n",
        "        for j in range(start_col, start_col + 3):\n",
        "            if grid[i][j] == num:\n",
        "                return False\n",
        "\n",
        "    return True\n",
        "\n",
        "\n",
        "def solve(grid):\n",
        "    \"\"\"Solves Sudoku using backtracking\"\"\"\n",
        "    empty = find_empty(grid)\n",
        "    if not empty:\n",
        "        return True  # Puzzle solved\n",
        "    row, col = empty\n",
        "\n",
        "    for num in range(1, 10):  # Numbers 1-9\n",
        "        if is_valid(grid, num, (row, col)):\n",
        "            grid[row][col] = num\n",
        "\n",
        "            if solve(grid):\n",
        "                return True\n",
        "\n",
        "            grid[row][col] = 0  # Backtrack\n",
        "\n",
        "    return False\n",
        "\n",
        "\n",
        "# Example Sudoku puzzle (0 means empty cell)\n",
        "sudoku_grid = [\n",
        "    [5, 3, 0, 0, 7, 0, 0, 0, 0],\n",
        "    [6, 0, 0, 1, 9, 5, 0, 0, 0],\n",
        "    [0, 9, 8, 0, 0, 0, 0, 6, 0],\n",
        "    [8, 0, 0, 0, 6, 0, 0, 0, 3],\n",
        "    [4, 0, 0, 8, 0, 3, 0, 0, 1],\n",
        "    [7, 0, 0, 0, 2, 0, 0, 0, 6],\n",
        "    [0, 6, 0, 0, 0, 0, 2, 8, 0],\n",
        "    [0, 0, 0, 4, 1, 9, 0, 0, 5],\n",
        "    [0, 0, 0, 0, 8, 0, 0, 7, 9]\n",
        "]\n",
        "\n",
        "print(\"Unsolved Sudoku Puzzle:\")\n",
        "print_grid(sudoku_grid)\n",
        "\n",
        "if solve(sudoku_grid):\n",
        "    print(\"\\nSolved Sudoku Puzzle:\")\n",
        "    print_grid(sudoku_grid)\n",
        "else:\n",
        "    print(\"No solution exists!\")\n"
      ],
      "metadata": {
        "colab": {
          "base_uri": "https://localhost:8080/"
        },
        "id": "WKU2HokuF5wF",
        "outputId": "516bd456-f868-4496-cb2e-8de62bc8bf96"
      },
      "execution_count": 2,
      "outputs": [
        {
          "output_type": "stream",
          "name": "stdout",
          "text": [
            "Unsolved Sudoku Puzzle:\n",
            "5 3 . . 7 . . . .\n",
            "6 . . 1 9 5 . . .\n",
            ". 9 8 . . . . 6 .\n",
            "8 . . . 6 . . . 3\n",
            "4 . . 8 . 3 . . 1\n",
            "7 . . . 2 . . . 6\n",
            ". 6 . . . . 2 8 .\n",
            ". . . 4 1 9 . . 5\n",
            ". . . . 8 . . 7 9\n",
            "\n",
            "Solved Sudoku Puzzle:\n",
            "5 3 4 6 7 8 9 1 2\n",
            "6 7 2 1 9 5 3 4 8\n",
            "1 9 8 3 4 2 5 6 7\n",
            "8 5 9 7 6 1 4 2 3\n",
            "4 2 6 8 5 3 7 9 1\n",
            "7 1 3 9 2 4 8 5 6\n",
            "9 6 1 5 3 7 2 8 4\n",
            "2 8 7 4 1 9 6 3 5\n",
            "3 4 5 2 8 6 1 7 9\n"
          ]
        }
      ]
    }
  ]
}