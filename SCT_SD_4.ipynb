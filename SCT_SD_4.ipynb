{
  "nbformat": 4,
  "nbformat_minor": 0,
  "metadata": {
    "colab": {
      "provenance": [],
      "authorship_tag": "ABX9TyObL9oDq33WZkiu4L7u154B",
      "include_colab_link": true
    },
    "kernelspec": {
      "name": "python3",
      "display_name": "Python 3"
    },
    "language_info": {
      "name": "python"
    }
  },
  "cells": [
    {
      "cell_type": "markdown",
      "metadata": {
        "id": "view-in-github",
        "colab_type": "text"
      },
      "source": [
        "<a href=\"https://colab.research.google.com/github/AnjaneyaSBV/skillcrafttechnology_intern/blob/main/SCT_SD_4.ipynb\" target=\"_parent\"><img src=\"https://colab.research.google.com/assets/colab-badge.svg\" alt=\"Open In Colab\"/></a>"
      ]
    },
    {
      "cell_type": "code",
      "execution_count": 2,
      "metadata": {
        "colab": {
          "base_uri": "https://localhost:8080/"
        },
        "id": "axWv75P7GJzL",
        "outputId": "bdea436e-92fc-4116-c843-6ed3de1b3403"
      },
      "outputs": [
        {
          "output_type": "stream",
          "name": "stdout",
          "text": [
            "✅ Data saved to products.csv\n"
          ]
        }
      ],
      "source": [
        "import requests\n",
        "from bs4 import BeautifulSoup\n",
        "import csv\n",
        "\n",
        "def scrape_books_to_csv():\n",
        "    url = \"http://books.toscrape.com/catalogue/category/books_1/index.html\"\n",
        "    response = requests.get(url)\n",
        "\n",
        "    if response.status_code != 200:\n",
        "        print(\"Failed to retrieve webpage\")\n",
        "        return\n",
        "\n",
        "    soup = BeautifulSoup(response.text, \"html.parser\")\n",
        "\n",
        "    books = soup.find_all(\"article\", class_=\"product_pod\")\n",
        "\n",
        "    data = []\n",
        "    for book in books:\n",
        "        title = book.h3.a[\"title\"]\n",
        "        price = book.find(\"p\", class_=\"price_color\").text.strip()\n",
        "        rating = book.p[\"class\"][1]  # Example: 'star-rating Three'\n",
        "\n",
        "        data.append([title, price, rating])\n",
        "\n",
        "    # Save to CSV\n",
        "    with open(\"products.csv\", \"w\", newline=\"\", encoding=\"utf-8\") as f:\n",
        "        writer = csv.writer(f)\n",
        "        writer.writerow([\"Title\", \"Price\", \"Rating\"])\n",
        "        writer.writerows(data)\n",
        "\n",
        "    print(\"✅ Data saved to products.csv\")\n",
        "\n",
        "# Run function\n",
        "scrape_books_to_csv()\n"
      ]
    }
  ]
}