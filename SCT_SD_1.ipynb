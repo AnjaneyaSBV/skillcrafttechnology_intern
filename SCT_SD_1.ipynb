{
  "nbformat": 4,
  "nbformat_minor": 0,
  "metadata": {
    "colab": {
      "provenance": [],
      "authorship_tag": "ABX9TyPF3D5NIlzTR/m39DhkczJy",
      "include_colab_link": true
    },
    "kernelspec": {
      "name": "python3",
      "display_name": "Python 3"
    },
    "language_info": {
      "name": "python"
    }
  },
  "cells": [
    {
      "cell_type": "markdown",
      "metadata": {
        "id": "view-in-github",
        "colab_type": "text"
      },
      "source": [
        "<a href=\"https://colab.research.google.com/github/AnjaneyaSBV/skillcrafttechnology_intern/blob/main/SCT_SD_1.ipynb\" target=\"_parent\"><img src=\"https://colab.research.google.com/assets/colab-badge.svg\" alt=\"Open In Colab\"/></a>"
      ]
    },
    {
      "cell_type": "code",
      "execution_count": 2,
      "metadata": {
        "colab": {
          "base_uri": "https://localhost:8080/"
        },
        "id": "jlNTOD_zCoWO",
        "outputId": "7fe9d2d4-6127-4a02-834b-5244c6d90b88"
      },
      "outputs": [
        {
          "output_type": "stream",
          "name": "stdout",
          "text": [
            "Temperature Converter\n",
            "Choose the input scale:\n",
            "1. Celsius\n",
            "2. Fahrenheit\n",
            "3. Kelvin\n",
            "Enter choice (1/2/3): 1\n",
            "Enter temperature in Celsius: 30\n",
            "30.0 °C = 86.00 °F\n",
            "30.0 °C = 303.15 K\n"
          ]
        }
      ],
      "source": [
        "\n",
        "def celsius_to_fahrenheit(c):\n",
        "    return (c * 9/5) + 32\n",
        "\n",
        "def celsius_to_kelvin(c):\n",
        "    return c + 273.15\n",
        "\n",
        "def fahrenheit_to_celsius(f):\n",
        "    return (f - 32) * 5/9\n",
        "\n",
        "def fahrenheit_to_kelvin(f):\n",
        "    return (f - 32) * 5/9 + 273.15\n",
        "\n",
        "def kelvin_to_celsius(k):\n",
        "    return k - 273.15\n",
        "\n",
        "def kelvin_to_fahrenheit(k):\n",
        "    return (k - 273.15) * 9/5 + 32\n",
        "\n",
        "\n",
        "def main():\n",
        "    print(\"Temperature Converter\")\n",
        "    print(\"Choose the input scale:\")\n",
        "    print(\"1. Celsius\")\n",
        "    print(\"2. Fahrenheit\")\n",
        "    print(\"3. Kelvin\")\n",
        "\n",
        "    choice = int(input(\"Enter choice (1/2/3): \"))\n",
        "\n",
        "    if choice == 1:\n",
        "        c = float(input(\"Enter temperature in Celsius: \"))\n",
        "        print(f\"{c} °C = {celsius_to_fahrenheit(c):.2f} °F\")\n",
        "        print(f\"{c} °C = {celsius_to_kelvin(c):.2f} K\")\n",
        "\n",
        "    elif choice == 2:\n",
        "        f = float(input(\"Enter temperature in Fahrenheit: \"))\n",
        "        print(f\"{f} °F = {fahrenheit_to_celsius(f):.2f} °C\")\n",
        "        print(f\"{f} °F = {fahrenheit_to_kelvin(f):.2f} K\")\n",
        "\n",
        "    elif choice == 3:\n",
        "        k = float(input(\"Enter temperature in Kelvin: \"))\n",
        "        print(f\"{k} K = {kelvin_to_celsius(k):.2f} °C\")\n",
        "        print(f\"{k} K = {kelvin_to_fahrenheit(k):.2f} °F\")\n",
        "\n",
        "    else:\n",
        "        print(\"Invalid choice! Please run again.\")\n",
        "\n",
        "\n",
        "if __name__ == \"__main__\":\n",
        "    main()\n"
      ]
    }
  ]
}